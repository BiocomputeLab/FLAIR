{
 "cells": [
  {
   "cell_type": "code",
   "execution_count": 25,
   "metadata": {},
   "outputs": [
    {
     "data": {
      "text/html": [
       "<style>.container {width:100% !important;}</style>"
      ],
      "text/plain": [
       "<IPython.core.display.HTML object>"
      ]
     },
     "metadata": {},
     "output_type": "display_data"
    }
   ],
   "source": [
    "import numpy as np\n",
    "import pandas as pd\n",
    "import random\n",
    "import matplotlib.gridspec as gsp\n",
    "import matplotlib.pyplot as plt\n",
    "import seaborn as sns\n",
    "import scipy as sc\n",
    "import scipy.stats as stats \n",
    "%config InlineBackend.figure_format = 'retina'\n",
    "from IPython.core.display import display, HTML\n",
    "display(HTML(\"<style>.container {width:100% !important;}</style>\"))  \n",
    "from scipy.special import gamma, factorial,digamma\n",
    "from matplotlib import cm\n",
    "from matplotlib.colors import ListedColormap, LinearSegmentedColormap\n",
    "import scipy.special as sp \n",
    "\n",
    "import sys\n",
    "sys.path.append(r'/Users/ys18223/Documents/GitHub/FLAIR_BiocomputeLab')\n",
    "\n",
    "import flair\n",
    "import flair.cheat_codes as cc"
   ]
  },
  {
   "cell_type": "markdown",
   "metadata": {},
   "source": [
    "# Import Data from simulations and inference"
   ]
  },
  {
   "cell_type": "code",
   "execution_count": 26,
   "metadata": {},
   "outputs": [
    {
     "data": {
      "text/html": [
       "<div>\n",
       "<style scoped>\n",
       "    .dataframe tbody tr th:only-of-type {\n",
       "        vertical-align: middle;\n",
       "    }\n",
       "\n",
       "    .dataframe tbody tr th {\n",
       "        vertical-align: top;\n",
       "    }\n",
       "\n",
       "    .dataframe thead th {\n",
       "        text-align: right;\n",
       "    }\n",
       "</style>\n",
       "<table border=\"1\" class=\"dataframe\">\n",
       "  <thead>\n",
       "    <tr style=\"text-align: right;\">\n",
       "      <th></th>\n",
       "      <th>mu_MLE</th>\n",
       "      <th>sigma_MLE</th>\n",
       "      <th>mu_std</th>\n",
       "      <th>sigma_std</th>\n",
       "      <th>mu_MOM</th>\n",
       "      <th>sigma_MOM</th>\n",
       "      <th>Inference_grade</th>\n",
       "      <th>Score</th>\n",
       "      <th>mu_gt</th>\n",
       "      <th>sigma_gt</th>\n",
       "      <th>mu_diff_mle</th>\n",
       "      <th>mu_diff_MOM</th>\n",
       "      <th>WD_MLE</th>\n",
       "      <th>WD_MOM</th>\n",
       "    </tr>\n",
       "  </thead>\n",
       "  <tbody>\n",
       "    <tr>\n",
       "      <th>0</th>\n",
       "      <td>10.034813</td>\n",
       "      <td>0.614449</td>\n",
       "      <td>0.019290</td>\n",
       "      <td>0.018783</td>\n",
       "      <td>9.962184</td>\n",
       "      <td>0.638806</td>\n",
       "      <td>1.0</td>\n",
       "      <td>0.714976</td>\n",
       "      <td>10.053588</td>\n",
       "      <td>0.628297</td>\n",
       "      <td>0.018775</td>\n",
       "      <td>0.091403</td>\n",
       "      <td>0.029825</td>\n",
       "      <td>0.083019</td>\n",
       "    </tr>\n",
       "    <tr>\n",
       "      <th>1</th>\n",
       "      <td>9.610547</td>\n",
       "      <td>0.643111</td>\n",
       "      <td>0.012046</td>\n",
       "      <td>0.013203</td>\n",
       "      <td>9.582377</td>\n",
       "      <td>0.739834</td>\n",
       "      <td>1.0</td>\n",
       "      <td>0.456359</td>\n",
       "      <td>9.609139</td>\n",
       "      <td>0.631807</td>\n",
       "      <td>0.001409</td>\n",
       "      <td>0.026762</td>\n",
       "      <td>0.010427</td>\n",
       "      <td>0.064694</td>\n",
       "    </tr>\n",
       "    <tr>\n",
       "      <th>2</th>\n",
       "      <td>6.616488</td>\n",
       "      <td>0.608262</td>\n",
       "      <td>0.010488</td>\n",
       "      <td>0.008823</td>\n",
       "      <td>6.607317</td>\n",
       "      <td>0.733513</td>\n",
       "      <td>1.0</td>\n",
       "      <td>0.000000</td>\n",
       "      <td>6.614673</td>\n",
       "      <td>0.599691</td>\n",
       "      <td>0.001815</td>\n",
       "      <td>0.007356</td>\n",
       "      <td>0.008654</td>\n",
       "      <td>0.099740</td>\n",
       "    </tr>\n",
       "    <tr>\n",
       "      <th>3</th>\n",
       "      <td>0.000000</td>\n",
       "      <td>0.000000</td>\n",
       "      <td>0.000000</td>\n",
       "      <td>0.000000</td>\n",
       "      <td>0.000000</td>\n",
       "      <td>0.000000</td>\n",
       "      <td>4.0</td>\n",
       "      <td>0.000000</td>\n",
       "      <td>12.588395</td>\n",
       "      <td>0.407422</td>\n",
       "      <td>12.588395</td>\n",
       "      <td>12.588395</td>\n",
       "      <td>12.913471</td>\n",
       "      <td>12.913471</td>\n",
       "    </tr>\n",
       "    <tr>\n",
       "      <th>4</th>\n",
       "      <td>9.991885</td>\n",
       "      <td>0.562439</td>\n",
       "      <td>0.019433</td>\n",
       "      <td>0.021928</td>\n",
       "      <td>9.957845</td>\n",
       "      <td>0.634078</td>\n",
       "      <td>1.0</td>\n",
       "      <td>0.709602</td>\n",
       "      <td>10.027675</td>\n",
       "      <td>0.593821</td>\n",
       "      <td>0.035790</td>\n",
       "      <td>0.069830</td>\n",
       "      <td>0.060829</td>\n",
       "      <td>0.040415</td>\n",
       "    </tr>\n",
       "  </tbody>\n",
       "</table>\n",
       "</div>"
      ],
      "text/plain": [
       "      mu_MLE  sigma_MLE    mu_std  sigma_std    mu_MOM  sigma_MOM  \\\n",
       "0  10.034813   0.614449  0.019290   0.018783  9.962184   0.638806   \n",
       "1   9.610547   0.643111  0.012046   0.013203  9.582377   0.739834   \n",
       "2   6.616488   0.608262  0.010488   0.008823  6.607317   0.733513   \n",
       "3   0.000000   0.000000  0.000000   0.000000  0.000000   0.000000   \n",
       "4   9.991885   0.562439  0.019433   0.021928  9.957845   0.634078   \n",
       "\n",
       "   Inference_grade     Score      mu_gt  sigma_gt  mu_diff_mle  mu_diff_MOM  \\\n",
       "0              1.0  0.714976  10.053588  0.628297     0.018775     0.091403   \n",
       "1              1.0  0.456359   9.609139  0.631807     0.001409     0.026762   \n",
       "2              1.0  0.000000   6.614673  0.599691     0.001815     0.007356   \n",
       "3              4.0  0.000000  12.588395  0.407422    12.588395    12.588395   \n",
       "4              1.0  0.709602  10.027675  0.593821     0.035790     0.069830   \n",
       "\n",
       "      WD_MLE     WD_MOM  \n",
       "0   0.029825   0.083019  \n",
       "1   0.010427   0.064694  \n",
       "2   0.008654   0.099740  \n",
       "3  12.913471  12.913471  \n",
       "4   0.060829   0.040415  "
      ]
     },
     "execution_count": 26,
     "metadata": {},
     "output_type": "execute_result"
    }
   ],
   "source": [
    "df=pd.read_csv('borders4.8.csv')\n",
    "df.head()"
   ]
  },
  {
   "cell_type": "code",
   "execution_count": 27,
   "metadata": {},
   "outputs": [
    {
     "name": "stdout",
     "output_type": "stream",
     "text": [
      "<class 'pandas.core.frame.DataFrame'>\n",
      "RangeIndex: 100000 entries, 0 to 99999\n",
      "Data columns (total 14 columns):\n",
      " #   Column           Non-Null Count   Dtype  \n",
      "---  ------           --------------   -----  \n",
      " 0   mu_MLE           100000 non-null  float64\n",
      " 1   sigma_MLE        100000 non-null  float64\n",
      " 2   mu_std           100000 non-null  float64\n",
      " 3   sigma_std        100000 non-null  float64\n",
      " 4   mu_MOM           100000 non-null  float64\n",
      " 5   sigma_MOM        100000 non-null  float64\n",
      " 6   Inference_grade  100000 non-null  float64\n",
      " 7   Score            100000 non-null  float64\n",
      " 8   mu_gt            100000 non-null  float64\n",
      " 9   sigma_gt         100000 non-null  float64\n",
      " 10  mu_diff_mle      100000 non-null  float64\n",
      " 11  mu_diff_MOM      100000 non-null  float64\n",
      " 12  WD_MLE           100000 non-null  float64\n",
      " 13  WD_MOM           100000 non-null  float64\n",
      "dtypes: float64(14)\n",
      "memory usage: 10.7 MB\n"
     ]
    }
   ],
   "source": [
    "df.info()"
   ]
  },
  {
   "cell_type": "markdown",
   "metadata": {},
   "source": [
    "This data uses the following experimental hyperparameters: \n",
    "\n",
    "- Diversity=100000\n",
    "- Fluorescence_max=10** 4.8\n",
    "- Bins=8\n",
    "- Distribution='lognormal'\n",
    "- N=100000 * 2800\n",
    "- Ratio_amplification=1\n",
    "- Budget_reads=1000000* 3000"
   ]
  },
  {
   "cell_type": "code",
   "execution_count": 28,
   "metadata": {},
   "outputs": [],
   "source": [
    "#Filter out tricky constructs\n",
    "df=df.loc[df['mu_MLE']!=0]\n",
    "df=df.loc[df['mu_gt']>1]\n",
    "df=df.loc[df['Inference_grade']==1]\n",
    "df=df[df['Score']<0.7]\n",
    "df=df.dropna()\n",
    "#Compute visibility score (Given the stringent Fmax, how much of the distribution have we seen for each construct?)\n",
    "df['Visibility']=df.apply(lambda row: cc.Visibility(row['mu_gt'],row['sigma_gt'],np.log(10**4.8)),axis=1)"
   ]
  },
  {
   "cell_type": "code",
   "execution_count": 29,
   "metadata": {},
   "outputs": [],
   "source": [
    "Bins=[0.15,0.25,0.35,0.45,0.55,0.65,0.75,0.85,0.95,1]\n",
    "Bins_labels=[0.15,0.25,0.35,0.45,0.55,0.65,0.75,0.85,0.95]\n",
    "df['Score_bin'] = pd.cut(df['Visibility'], bins=Bins, labels =Bins_labels)"
   ]
  },
  {
   "cell_type": "code",
   "execution_count": 30,
   "metadata": {},
   "outputs": [
    {
     "data": {
      "text/plain": [
       "(array([       nan,        nan,        nan,        nan,        nan,\n",
       "        0.54691892, 0.32362332, 0.08064533, 0.01353397]),\n",
       " array([       nan,        nan,        nan,        nan,        nan,\n",
       "        0.80226432, 0.54813858, 0.14517891, 0.08249402]))"
      ]
     },
     "execution_count": 30,
     "metadata": {},
     "output_type": "execute_result"
    }
   ],
   "source": [
    "df.groupby('Score_bin')['WD_MLE'].mean().to_numpy(),df.groupby('Score_bin')['WD_MOM'].mean().to_numpy()"
   ]
  },
  {
   "cell_type": "code",
   "execution_count": 31,
   "metadata": {},
   "outputs": [
    {
     "data": {
      "text/plain": [
       "(array([       nan,        nan,        nan,        nan,        nan,\n",
       "        0.09048128, 0.06111569, 0.04279656, 0.01402551]),\n",
       " array([       nan,        nan,        nan,        nan,        nan,\n",
       "        0.08930858, 0.1082683 , 0.0619173 , 0.03404698]))"
      ]
     },
     "execution_count": 31,
     "metadata": {},
     "output_type": "execute_result"
    }
   ],
   "source": [
    "df.groupby('Score_bin')['WD_MLE'].std().to_numpy(),df.groupby('Score_bin')['WD_MOM'].std().to_numpy()"
   ]
  },
  {
   "cell_type": "code",
   "execution_count": 35,
   "metadata": {},
   "outputs": [
    {
     "data": {
      "text/plain": [
       "<matplotlib.legend.Legend at 0x7fd33d034e20>"
      ]
     },
     "execution_count": 35,
     "metadata": {},
     "output_type": "execute_result"
    },
    {
     "data": {
      "image/png": "[encoded data removed]",
      "text/plain": [
       "<Figure size 842.4x597.6 with 1 Axes>"
      ]
     },
     "metadata": {
      "image/png": {
       "height": 534,
       "width": 724
      },
      "needs_background": "light"
     },
     "output_type": "display_data"
    }
   ],
   "source": [
    "import matplotlib.gridspec as gs\n",
    "labels =['%s-%s '%(str(i*10+5),str((i+1)*10+5)) for i in range(5,9)] #['%s'%str(i) for i in range(10)]\n",
    "MAPE_MLE = df.groupby('Score_bin')['WD_MLE'].mean().to_numpy()[5:]\n",
    "MAPE_MOM = df.groupby('Score_bin')['WD_MOM'].mean().to_numpy()[5:]\n",
    "STD_MAPE_MLE = df.groupby('Score_bin')['WD_MLE'].std().to_numpy()[5:]\n",
    "STD_MAPE_MOM = df.groupby('Score_bin')['WD_MOM'].std().to_numpy()[5:]\n",
    "\n",
    "width = 0.2   # the width of the bars: can also be len(x) sequence\n",
    "\n",
    "# Create the figure\n",
    "fig = plt.figure(figsize=(11.7,8.3))\n",
    "gs =gs.GridSpec(1, 1)\n",
    "ax = plt.subplot(gs[0])\n",
    "\n",
    "\n",
    "ax.bar(np.arange(4), MAPE_MLE, width, yerr=STD_MAPE_MLE, label='FLAIR',color='#2463A3',capsize=3)\n",
    "ax.bar(np.arange(4)+0.2, MAPE_MOM, width, yerr=STD_MAPE_MOM,label='MOM',color='#B5520E',capsize=3)\n",
    "ax.set_xticks(np.arange(4)+0.1)\n",
    "ax.set_xticklabels( labels )\n",
    "ax.set_ylabel('1-Wasserstein distance')\n",
    "ax.set_xlabel('CDF(F_max) (%)')\n",
    "#ax.set_title('Breakdown according to visibility')\n",
    "ax.legend()\n",
    "sns.despine()\n",
    "plt.subplots_adjust(hspace=.0 , wspace=.00, left=.15, right=.95, top=.95, bottom=.13)\n",
    "plt.legend(frameon=False,fontsize=16)"
   ]
  },
  {
   "cell_type": "code",
   "execution_count": null,
   "metadata": {},
   "outputs": [],
   "source": []
  }
 ],
 "metadata": {
  "kernelspec": {
   "display_name": "Python 3",
   "language": "python",
   "name": "python3"
  },
  "language_info": {
   "codemirror_mode": {
    "name": "ipython",
    "version": 3
   },
   "file_extension": ".py",
   "mimetype": "text/x-python",
   "name": "python",
   "nbconvert_exporter": "python",
   "pygments_lexer": "ipython3",
   "version": "3.8.5"
  },
  "latex_envs": {
   "LaTeX_envs_menu_present": true,
   "autoclose": false,
   "autocomplete": true,
   "bibliofile": "biblio.bib",
   "cite_by": "apalike",
   "current_citInitial": 1,
   "eqLabelWithNumbers": true,
   "eqNumInitial": 1,
   "hotkeys": {
    "equation": "Ctrl-E",
    "itemize": "Ctrl-I"
   },
   "labels_anchors": false,
   "latex_user_defs": false,
   "report_style_numbering": false,
   "user_envs_cfg": false
  },
  "toc": {
   "base_numbering": 1,
   "nav_menu": {},
   "number_sections": true,
   "sideBar": true,
   "skip_h1_title": false,
   "title_cell": "Table of Contents",
   "title_sidebar": "Contents",
   "toc_cell": false,
   "toc_position": {},
   "toc_section_display": true,
   "toc_window_display": false
  }
 },
 "nbformat": 4,
 "nbformat_minor": 4
}
